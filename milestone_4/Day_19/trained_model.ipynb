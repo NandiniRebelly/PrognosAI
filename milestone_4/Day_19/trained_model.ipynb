{
 "cells": [
  {
   "cell_type": "code",
   "execution_count": 3,
   "id": "1e4f8be4-b6d5-4fdd-aa97-d821ae07829d",
   "metadata": {},
   "outputs": [
    {
     "name": "stdout",
     "output_type": "stream",
     "text": [
      "Test accuracy: 0.9000\n",
      "Saved model and metadata to C:\\Users\\Admin\\Downloads\\iris_model.joblib\n"
     ]
    }
   ],
   "source": [
    "import joblib\n",
    "from sklearn.datasets import load_iris\n",
    "from sklearn.ensemble import RandomForestClassifier\n",
    "from sklearn.model_selection import train_test_split\n",
    "from sklearn.preprocessing import StandardScaler\n",
    "from sklearn.pipeline import make_pipeline\n",
    "import pandas as pd\n",
    "\n",
    "def main(save_path=r\"C:\\Users\\Admin\\Downloads\\iris_model.joblib\"):\n",
    "    # Load Iris dataset (as a pandas DataFrame)\n",
    "    iris = load_iris(as_frame=True)\n",
    "    X = iris.data\n",
    "    y = iris.target\n",
    "\n",
    "    # Train / test split\n",
    "    X_train, X_test, y_train, y_test = train_test_split(\n",
    "        X, y, test_size=0.2, random_state=42, stratify=y\n",
    "    )\n",
    "\n",
    "    # Pipeline: scaler + RandomForest\n",
    "    clf = make_pipeline(StandardScaler(), RandomForestClassifier(n_estimators=100, random_state=42))\n",
    "\n",
    "    # Fit model\n",
    "    clf.fit(X_train, y_train)\n",
    "\n",
    "    # Evaluate\n",
    "    acc = clf.score(X_test, y_test)\n",
    "    print(f\"Test accuracy: {acc:.4f}\")\n",
    "\n",
    "    # Save model + useful metadata (feature names, target names)\n",
    "    joblib.dump({\n",
    "        'model': clf,\n",
    "        'feature_names': list(X.columns),\n",
    "        'target_names': list(iris.target_names)\n",
    "    }, save_path)\n",
    "\n",
    "    print(f\"Saved model and metadata to {save_path}\")\n",
    "\n",
    "if __name__ == \"__main__\":\n",
    "    main()\n"
   ]
  },
  {
   "cell_type": "code",
   "execution_count": null,
   "id": "bb7ef5ff-42ba-440a-b54d-212b342dba8f",
   "metadata": {},
   "outputs": [],
   "source": []
  }
 ],
 "metadata": {
  "kernelspec": {
   "display_name": "Python 3.13",
   "language": "python",
   "name": "python313"
  },
  "language_info": {
   "codemirror_mode": {
    "name": "ipython",
    "version": 3
   },
   "file_extension": ".py",
   "mimetype": "text/x-python",
   "name": "python",
   "nbconvert_exporter": "python",
   "pygments_lexer": "ipython3",
   "version": "3.13.5"
  }
 },
 "nbformat": 4,
 "nbformat_minor": 5
}
