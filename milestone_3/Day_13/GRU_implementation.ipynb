{
 "cells": [
  {
   "cell_type": "code",
   "execution_count": 1,
   "id": "d59405de-e8a3-4f62-a33a-68c0c6bfb6fc",
   "metadata": {},
   "outputs": [],
   "source": [
    "# Import necessary libraries\n",
    "import numpy as np\n",
    "import pandas as pd\n",
    "import tensorflow as tf\n",
    "from tensorflow.keras.models import Sequential\n",
    "from tensorflow.keras.optimizers import Adam\n",
    "from tensorflow.keras.layers import Embedding, GRU, Dense, Dropout\n",
    "from tensorflow.keras.preprocessing.text import Tokenizer\n",
    "# from tensorflow.keras.preprocessing.sequence import pad_sequences\n",
    "from sklearn.metrics import mean_squared_error\n",
    "from sklearn.model_selection import train_test_split\n",
    "import matplotlib.pyplot as plt"
   ]
  },
  {
   "cell_type": "code",
   "execution_count": 2,
   "id": "baa219a7-1984-4b6c-a324-c30c86fa156a",
   "metadata": {},
   "outputs": [
    {
     "name": "stdout",
     "output_type": "stream",
     "text": [
      "Test feature shape: (17631, 30, 66)\n",
      "Test target shape: (17631,)\n"
     ]
    }
   ],
   "source": [
    "# Load test features and labels\n",
    "X_test = np.load('rolling_window_sequences.npy')  # Replace with actual file path\n",
    "metadata_test = pd.read_csv(\"sequence_metadata_with_RUL.csv\")  # Replace with actual file path\n",
    "y_test = metadata_test[\"RUL\"].values\n",
    "print(\"Test feature shape:\", X_test.shape)\n",
    "print(\"Test target shape:\", y_test.shape)"
   ]
  },
  {
   "cell_type": "code",
   "execution_count": 3,
   "id": "cd793b0e-ed71-4fcc-8783-922ff86d2c55",
   "metadata": {},
   "outputs": [],
   "source": [
    "# Split the data into train and validation sets (assuming no separate train set given)\n",
    "X_train, X_val, y_train, y_val = train_test_split(X_test, y_test, test_size=0.3, random_state=42)"
   ]
  },
  {
   "cell_type": "code",
   "execution_count": 4,
   "id": "7f78757f-6a73-4f4b-a976-34b35eef6dde",
   "metadata": {},
   "outputs": [],
   "source": [
    "# Define GRU model creation function\n",
    "def create_gru_model(input_shape, units=64, learning_rate=0.001, dropout_rate=0.2):\n",
    "    model = Sequential()\n",
    "    model.add(GRU(units, input_shape=input_shape))\n",
    "    model.add(Dropout(dropout_rate))\n",
    "    model.add(Dense(1))\n",
    "    optimizer = Adam(learning_rate=learning_rate)\n",
    "    model.compile(loss='mse', optimizer=optimizer, metrics=['mae'])\n",
    "    return model"
   ]
  },
  {
   "cell_type": "code",
   "execution_count": 7,
   "id": "bf9157a8-32b7-42a8-8a09-fb3223a50ef0",
   "metadata": {},
   "outputs": [],
   "source": [
    "from keras.models import Sequential\n",
    "from keras.layers import GRU, Dense, Dropout, Input\n",
    "from keras.optimizers import Adam\n",
    "from keras.callbacks import EarlyStopping\n",
    "\n",
    "# Define GRU model creation function\n",
    "def create_gru_model(input_shape, units=64, learning_rate=0.001, dropout_rate=0.2):\n",
    "    model = Sequential()\n",
    "    model.add(Input(shape=input_shape))   # modern way\n",
    "    model.add(GRU(units))\n",
    "    model.add(Dropout(dropout_rate))\n",
    "    model.add(Dense(1))\n",
    "    optimizer = Adam(learning_rate=learning_rate)\n",
    "    model.compile(loss='mse', optimizer=optimizer, metrics=['mae'])\n",
    "    return model\n",
    "\n",
    "# Create the model\n",
    "model = create_gru_model(\n",
    "    input_shape=(X_train.shape[1], X_train.shape[2]),\n",
    "    units=64,\n",
    "    learning_rate=0.001,\n",
    "    dropout_rate=0.2\n",
    ")\n",
    "\n",
    "# Callbacks for early stopping\n",
    "callbacks = [\n",
    "    EarlyStopping(monitor='val_loss', patience=5, restore_best_weights=True)\n",
    "]\n"
   ]
  },
  {
   "cell_type": "code",
   "execution_count": 8,
   "id": "9cf3f978-070c-4ec8-9062-f698f47456b6",
   "metadata": {},
   "outputs": [
    {
     "name": "stdout",
     "output_type": "stream",
     "text": [
      "Epoch 1/30\n",
      "\u001b[1m193/193\u001b[0m \u001b[32m━━━━━━━━━━━━━━━━━━━━\u001b[0m\u001b[37m\u001b[0m \u001b[1m13s\u001b[0m 51ms/step - loss: 6934.3042 - mae: 71.7696 - val_loss: 5987.0142 - val_mae: 65.7349\n",
      "Epoch 2/30\n",
      "\u001b[1m193/193\u001b[0m \u001b[32m━━━━━━━━━━━━━━━━━━━━\u001b[0m\u001b[37m\u001b[0m \u001b[1m8s\u001b[0m 43ms/step - loss: 5363.7539 - mae: 61.3603 - val_loss: 4748.0059 - val_mae: 56.9386\n",
      "Epoch 3/30\n",
      "\u001b[1m193/193\u001b[0m \u001b[32m━━━━━━━━━━━━━━━━━━━━\u001b[0m\u001b[37m\u001b[0m \u001b[1m8s\u001b[0m 40ms/step - loss: 4263.5415 - mae: 53.4604 - val_loss: 3775.3596 - val_mae: 49.7418\n",
      "Epoch 4/30\n",
      "\u001b[1m193/193\u001b[0m \u001b[32m━━━━━━━━━━━━━━━━━━━━\u001b[0m\u001b[37m\u001b[0m \u001b[1m8s\u001b[0m 40ms/step - loss: 3392.5078 - mae: 46.8816 - val_loss: 3000.3518 - val_mae: 43.6147\n",
      "Epoch 5/30\n",
      "\u001b[1m193/193\u001b[0m \u001b[32m━━━━━━━━━━━━━━━━━━━━\u001b[0m\u001b[37m\u001b[0m \u001b[1m8s\u001b[0m 41ms/step - loss: 2702.0828 - mae: 41.3382 - val_loss: 2362.5320 - val_mae: 38.3261\n",
      "Epoch 6/30\n",
      "\u001b[1m193/193\u001b[0m \u001b[32m━━━━━━━━━━━━━━━━━━━━\u001b[0m\u001b[37m\u001b[0m \u001b[1m8s\u001b[0m 40ms/step - loss: 2106.9851 - mae: 36.2023 - val_loss: 1829.0902 - val_mae: 33.4662\n",
      "Epoch 7/30\n",
      "\u001b[1m193/193\u001b[0m \u001b[32m━━━━━━━━━━━━━━━━━━━━\u001b[0m\u001b[37m\u001b[0m \u001b[1m9s\u001b[0m 44ms/step - loss: 1645.3313 - mae: 31.8985 - val_loss: 1439.9423 - val_mae: 29.6590\n",
      "Epoch 8/30\n",
      "\u001b[1m193/193\u001b[0m \u001b[32m━━━━━━━━━━━━━━━━━━━━\u001b[0m\u001b[37m\u001b[0m \u001b[1m8s\u001b[0m 41ms/step - loss: 1296.5588 - mae: 28.2741 - val_loss: 1134.5494 - val_mae: 26.4522\n",
      "Epoch 9/30\n",
      "\u001b[1m193/193\u001b[0m \u001b[32m━━━━━━━━━━━━━━━━━━━━\u001b[0m\u001b[37m\u001b[0m \u001b[1m8s\u001b[0m 40ms/step - loss: 1029.4393 - mae: 25.2866 - val_loss: 884.4888 - val_mae: 23.4265\n",
      "Epoch 10/30\n",
      "\u001b[1m193/193\u001b[0m \u001b[32m━━━━━━━━━━━━━━━━━━━━\u001b[0m\u001b[37m\u001b[0m \u001b[1m8s\u001b[0m 42ms/step - loss: 808.5034 - mae: 22.5378 - val_loss: 693.9978 - val_mae: 20.8464\n",
      "Epoch 11/30\n",
      "\u001b[1m193/193\u001b[0m \u001b[32m━━━━━━━━━━━━━━━━━━━━\u001b[0m\u001b[37m\u001b[0m \u001b[1m8s\u001b[0m 41ms/step - loss: 642.2245 - mae: 20.2180 - val_loss: 549.6262 - val_mae: 18.7610\n",
      "Epoch 12/30\n",
      "\u001b[1m193/193\u001b[0m \u001b[32m━━━━━━━━━━━━━━━━━━━━\u001b[0m\u001b[37m\u001b[0m \u001b[1m8s\u001b[0m 41ms/step - loss: 526.5533 - mae: 18.4194 - val_loss: 443.4074 - val_mae: 16.9580\n",
      "Epoch 13/30\n",
      "\u001b[1m193/193\u001b[0m \u001b[32m━━━━━━━━━━━━━━━━━━━━\u001b[0m\u001b[37m\u001b[0m \u001b[1m8s\u001b[0m 39ms/step - loss: 441.2564 - mae: 16.9975 - val_loss: 373.9578 - val_mae: 15.7734\n",
      "Epoch 14/30\n",
      "\u001b[1m193/193\u001b[0m \u001b[32m━━━━━━━━━━━━━━━━━━━━\u001b[0m\u001b[37m\u001b[0m \u001b[1m8s\u001b[0m 40ms/step - loss: 376.3215 - mae: 15.7799 - val_loss: 317.0441 - val_mae: 14.3704\n",
      "Epoch 15/30\n",
      "\u001b[1m193/193\u001b[0m \u001b[32m━━━━━━━━━━━━━━━━━━━━\u001b[0m\u001b[37m\u001b[0m \u001b[1m8s\u001b[0m 40ms/step - loss: 354.6359 - mae: 15.3350 - val_loss: 282.9573 - val_mae: 13.8378\n",
      "Epoch 16/30\n",
      "\u001b[1m193/193\u001b[0m \u001b[32m━━━━━━━━━━━━━━━━━━━━\u001b[0m\u001b[37m\u001b[0m \u001b[1m8s\u001b[0m 40ms/step - loss: 300.7813 - mae: 14.1113 - val_loss: 245.4708 - val_mae: 12.5658\n",
      "Epoch 17/30\n",
      "\u001b[1m193/193\u001b[0m \u001b[32m━━━━━━━━━━━━━━━━━━━━\u001b[0m\u001b[37m\u001b[0m \u001b[1m8s\u001b[0m 42ms/step - loss: 271.0331 - mae: 13.3059 - val_loss: 243.2334 - val_mae: 12.7079\n",
      "Epoch 18/30\n",
      "\u001b[1m193/193\u001b[0m \u001b[32m━━━━━━━━━━━━━━━━━━━━\u001b[0m\u001b[37m\u001b[0m \u001b[1m8s\u001b[0m 39ms/step - loss: 244.4692 - mae: 12.5075 - val_loss: 199.1000 - val_mae: 11.1340\n",
      "Epoch 19/30\n",
      "\u001b[1m193/193\u001b[0m \u001b[32m━━━━━━━━━━━━━━━━━━━━\u001b[0m\u001b[37m\u001b[0m \u001b[1m8s\u001b[0m 39ms/step - loss: 225.7031 - mae: 11.8743 - val_loss: 186.3231 - val_mae: 10.7167\n",
      "Epoch 20/30\n",
      "\u001b[1m193/193\u001b[0m \u001b[32m━━━━━━━━━━━━━━━━━━━━\u001b[0m\u001b[37m\u001b[0m \u001b[1m8s\u001b[0m 39ms/step - loss: 212.5023 - mae: 11.4390 - val_loss: 188.6966 - val_mae: 10.8729\n",
      "Epoch 21/30\n",
      "\u001b[1m193/193\u001b[0m \u001b[32m━━━━━━━━━━━━━━━━━━━━\u001b[0m\u001b[37m\u001b[0m \u001b[1m8s\u001b[0m 41ms/step - loss: 204.5304 - mae: 11.1225 - val_loss: 174.5346 - val_mae: 10.2067\n",
      "Epoch 22/30\n",
      "\u001b[1m193/193\u001b[0m \u001b[32m━━━━━━━━━━━━━━━━━━━━\u001b[0m\u001b[37m\u001b[0m \u001b[1m8s\u001b[0m 43ms/step - loss: 188.7646 - mae: 10.6425 - val_loss: 153.3741 - val_mae: 9.4259\n",
      "Epoch 23/30\n",
      "\u001b[1m193/193\u001b[0m \u001b[32m━━━━━━━━━━━━━━━━━━━━\u001b[0m\u001b[37m\u001b[0m \u001b[1m8s\u001b[0m 42ms/step - loss: 182.8875 - mae: 10.4874 - val_loss: 145.7708 - val_mae: 9.2848\n",
      "Epoch 24/30\n",
      "\u001b[1m193/193\u001b[0m \u001b[32m━━━━━━━━━━━━━━━━━━━━\u001b[0m\u001b[37m\u001b[0m \u001b[1m8s\u001b[0m 41ms/step - loss: 180.4617 - mae: 10.3531 - val_loss: 144.0882 - val_mae: 9.0272\n",
      "Epoch 25/30\n",
      "\u001b[1m193/193\u001b[0m \u001b[32m━━━━━━━━━━━━━━━━━━━━\u001b[0m\u001b[37m\u001b[0m \u001b[1m8s\u001b[0m 41ms/step - loss: 170.8355 - mae: 9.9678 - val_loss: 137.6048 - val_mae: 8.7489\n",
      "Epoch 26/30\n",
      "\u001b[1m193/193\u001b[0m \u001b[32m━━━━━━━━━━━━━━━━━━━━\u001b[0m\u001b[37m\u001b[0m \u001b[1m8s\u001b[0m 42ms/step - loss: 169.4103 - mae: 9.9467 - val_loss: 134.5325 - val_mae: 8.5446\n",
      "Epoch 27/30\n",
      "\u001b[1m193/193\u001b[0m \u001b[32m━━━━━━━━━━━━━━━━━━━━\u001b[0m\u001b[37m\u001b[0m \u001b[1m8s\u001b[0m 39ms/step - loss: 164.3139 - mae: 9.8107 - val_loss: 130.6057 - val_mae: 8.4994\n",
      "Epoch 28/30\n",
      "\u001b[1m193/193\u001b[0m \u001b[32m━━━━━━━━━━━━━━━━━━━━\u001b[0m\u001b[37m\u001b[0m \u001b[1m8s\u001b[0m 40ms/step - loss: 157.2441 - mae: 9.5538 - val_loss: 118.6703 - val_mae: 8.0176\n",
      "Epoch 29/30\n",
      "\u001b[1m193/193\u001b[0m \u001b[32m━━━━━━━━━━━━━━━━━━━━\u001b[0m\u001b[37m\u001b[0m \u001b[1m8s\u001b[0m 43ms/step - loss: 155.4372 - mae: 9.5264 - val_loss: 121.2810 - val_mae: 8.0945\n",
      "Epoch 30/30\n",
      "\u001b[1m193/193\u001b[0m \u001b[32m━━━━━━━━━━━━━━━━━━━━\u001b[0m\u001b[37m\u001b[0m \u001b[1m8s\u001b[0m 41ms/step - loss: 149.0002 - mae: 9.3358 - val_loss: 109.9515 - val_mae: 7.7195\n"
     ]
    }
   ],
   "source": [
    "# Train the model\n",
    "history = model.fit(\n",
    "    X_train, y_train,\n",
    "    validation_data=(X_val, y_val),\n",
    "    epochs=30,\n",
    "    batch_size=64,\n",
    "    callbacks=callbacks,\n",
    "    verbose=1\n",
    ")"
   ]
  },
  {
   "cell_type": "code",
   "execution_count": 9,
   "id": "764779a7-05de-4931-b9a9-e59419013186",
   "metadata": {},
   "outputs": [
    {
     "name": "stdout",
     "output_type": "stream",
     "text": [
      "Validation MSE: 109.9515, MAE: 7.7195\n",
      "\u001b[1m551/551\u001b[0m \u001b[32m━━━━━━━━━━━━━━━━━━━━\u001b[0m\u001b[37m\u001b[0m \u001b[1m7s\u001b[0m 11ms/step\n",
      "Test MSE: 95.9272\n"
     ]
    }
   ],
   "source": [
    "# Evaluate on validation set\n",
    "val_loss, val_mae = model.evaluate(X_val, y_val, verbose=0)\n",
    "print(f'Validation MSE: {val_loss:.4f}, MAE: {val_mae:.4f}')\n",
    "\n",
    "# Predict on test set\n",
    "y_pred = model.predict(X_test).flatten()\n",
    "\n",
    "# Calculate test MSE\n",
    "test_mse = mean_squared_error(y_test, y_pred)\n",
    "print(f'Test MSE: {test_mse:.4f}')"
   ]
  },
  {
   "cell_type": "code",
   "execution_count": null,
   "id": "fab970ec-fa09-4099-bc68-e12bc9b6c8cf",
   "metadata": {},
   "outputs": [],
   "source": []
  }
 ],
 "metadata": {
  "kernelspec": {
   "display_name": "Python 3.13",
   "language": "python",
   "name": "python313"
  },
  "language_info": {
   "codemirror_mode": {
    "name": "ipython",
    "version": 3
   },
   "file_extension": ".py",
   "mimetype": "text/x-python",
   "name": "python",
   "nbconvert_exporter": "python",
   "pygments_lexer": "ipython3",
   "version": "3.13.5"
  }
 },
 "nbformat": 4,
 "nbformat_minor": 5
}
