{
 "cells": [
  {
   "cell_type": "markdown",
   "id": "e6cab597-ce46-4351-853f-d18649b817af",
   "metadata": {},
   "source": [
    "Build and Train GRU model with Implementation of Hyperparameter Tuning"
   ]
  },
  {
   "cell_type": "code",
   "execution_count": 1,
   "id": "189ab47c-d310-479b-9d00-7c733ae3dc4a",
   "metadata": {},
   "outputs": [],
   "source": [
    "# Import necessary libraries\n",
    "import tensorflow as tf\n",
    "from tensorflow.keras.models import Sequential\n",
    "from tensorflow.keras.layers import GRU, Dense\n",
    "from tensorflow.keras.callbacks import EarlyStopping, ModelCheckpoint, ReduceLROnPlateau\n",
    "from sklearn.model_selection import KFold, train_test_split\n",
    "import numpy as np\n",
    "import pandas as pd"
   ]
  },
  {
   "cell_type": "code",
   "execution_count": null,
   "id": "d3a45d71-bb0e-4607-bb65-10fbc56f3c8a",
   "metadata": {},
   "outputs": [],
   "source": [
    "# Load test features and labels\n",
    "X = np.load('rolling_window_sequences.npy')  # Replace with actual file path\n",
    "metadata_test = pd.read_csv(r\"C:\\Users\\Admin\\Downloads\\sequence_metadata_with_RUL.csv\")  # Replace with actual file path\n",
    "y = metadata_test[\"RUL\"].values\n",
    "print(\"Test feature shape:\", X.shape)\n",
    "print(\"Test target shape:\", y.shape)"
   ]
  },
  {
   "cell_type": "code",
   "execution_count": null,
   "id": "eb015a4d-1852-4edb-9013-3c1b6b39de73",
   "metadata": {},
   "outputs": [],
   "source": [
    "from sklearn.model_selection import train_test_split\n",
    "\n",
    "# Assuming you have your full dataset as X and y\n",
    "X_train, X_val, y_train, y_val = train_test_split(X, y, test_size=0.3, random_state=42)\n"
   ]
  },
  {
   "cell_type": "code",
   "execution_count": null,
   "id": "53782bbd-6256-4be4-861b-bfe619dc6482",
   "metadata": {},
   "outputs": [],
   "source": [
    "# Define hyperparameters to tune\n",
    "params = {\n",
    "    'units': [32, 64],\n",
    "    'batch_size': [16, 32],\n",
    "    'epochs': 50,\n",
    "    'learning_rate': [0.001, 0.0005]\n",
    "}"
   ]
  },
  {
   "cell_type": "code",
   "execution_count": null,
   "id": "b347b7c4-c237-4327-8114-3d1bb80352ce",
   "metadata": {},
   "outputs": [],
   "source": [
    "# Set up 5-fold cross-validation\n",
    "kfold = KFold(n_splits=5, shuffle=True, random_state=42)"
   ]
  },
  {
   "cell_type": "code",
   "execution_count": null,
   "id": "919cf72c-86fd-4fb7-b8ed-bceb0d3f845c",
   "metadata": {},
   "outputs": [],
   "source": [
    "# Define a function to build the GRU model\n",
    "def build_gru_model(units, learning_rate, input_shape):\n",
    "    model = Sequential()\n",
    "    model.add(GRU(units, input_shape=input_shape, return_sequences=False))\n",
    "    model.add(Dense(1))  # Single output for regression (RUL)\n",
    "    optimizer = tf.keras.optimizers.Adam(learning_rate=learning_rate)\n",
    "    model.compile(optimizer=optimizer, loss='mse', metrics=['mae'])\n",
    "    return model"
   ]
  },
  {
   "cell_type": "code",
   "execution_count": null,
   "id": "2fc58421-c7a7-4468-8c8e-01ec412ad25a",
   "metadata": {},
   "outputs": [],
   "source": [
    "# Define callbacks\n",
    "callbacks = [\n",
    "    EarlyStopping(monitor='val_loss', patience=10, restore_best_weights=True),\n",
    "    ModelCheckpoint('best_gru_model.keras', monitor='val_loss', save_best_only=True),\n",
    "    ReduceLROnPlateau(monitor=\"val_loss\", factor=0.5, patience=4, min_lr=1e-5, verbose=1)\n",
    "]"
   ]
  },
  {
   "cell_type": "code",
   "execution_count": null,
   "id": "d9edc086-bdc4-44b6-85c3-8471b6767c36",
   "metadata": {},
   "outputs": [
    {
     "name": "stderr",
     "output_type": "stream",
     "text": [
      "C:\\Users\\Admin\\AppData\\Local\\Programs\\Python\\Python313\\Lib\\site-packages\\keras\\src\\layers\\rnn\\rnn.py:199: UserWarning: Do not pass an `input_shape`/`input_dim` argument to a layer. When using Sequential models, prefer using an `Input(shape)` object as the first layer in the model instead.\n",
      "  super().__init__(**kwargs)\n"
     ]
    }
   ],
   "source": [
    "best_val_loss = np.inf\n",
    "best_model = None\n",
    "best_params = None\n",
    "\n",
    "# Hyperparameter tuning with cross-validation\n",
    "for units in params['units']:\n",
    "    for batch_size in params['batch_size']:\n",
    "        for learning_rate in params['learning_rate']:\n",
    "            val_losses = []\n",
    "            for train_idx, val_idx in kfold.split(X):\n",
    "                X_train, X_val = X[train_idx], X[val_idx]\n",
    "                y_train, y_val = y[train_idx], y[val_idx]\n",
    "\n",
    "                model = build_gru_model(units, learning_rate, input_shape=(X.shape[1], X.shape[2]))\n",
    "\n",
    "                history = model.fit(\n",
    "                    X_train, y_train,\n",
    "                    validation_data=(X_val, y_val),\n",
    "                    epochs=params['epochs'],\n",
    "                    batch_size=batch_size,\n",
    "                    callbacks=callbacks,\n",
    "                    verbose=0\n",
    "                )\n",
    "                val_loss = min(history.history['val_loss'])\n",
    "                val_losses.append(val_loss)\n",
    "\n",
    "            avg_val_loss = np.mean(val_losses)\n",
    "            if avg_val_loss < best_val_loss:\n",
    "                best_val_loss = avg_val_loss\n",
    "                best_model = model\n",
    "                best_params = (units, batch_size, learning_rate)"
   ]
  },
  {
   "cell_type": "code",
   "execution_count": null,
   "id": "0cc65886-b54e-4e09-9f6c-befc6d6dd942",
   "metadata": {},
   "outputs": [],
   "source": [
    "print(f\"Best validation loss: {best_val_loss}\")\n",
    "print(f\"Best parameters: units={best_params[0]}, batch_size={best_params[1]}, learning_rate={best_params[2]}\")"
   ]
  },
  {
   "cell_type": "code",
   "execution_count": null,
   "id": "5fbf3fad-8ae7-4dd4-ac9c-0da9e4206d86",
   "metadata": {},
   "outputs": [],
   "source": [
    "# Save the best model\n",
    "best_model.save(r\"C:\\Users\\Admin\\Downloads\\final_best_gru_model_cmapss.keras\")"
   ]
  },
  {
   "cell_type": "code",
   "execution_count": null,
   "id": "69a00a35-1fd9-45af-b311-d2fe20885d90",
   "metadata": {},
   "outputs": [],
   "source": []
  }
 ],
 "metadata": {
  "kernelspec": {
   "display_name": "Python 3.13",
   "language": "python",
   "name": "python313"
  },
  "language_info": {
   "codemirror_mode": {
    "name": "ipython",
    "version": 3
   },
   "file_extension": ".py",
   "mimetype": "text/x-python",
   "name": "python",
   "nbconvert_exporter": "python",
   "pygments_lexer": "ipython3",
   "version": "3.13.5"
  }
 },
 "nbformat": 4,
 "nbformat_minor": 5
}
